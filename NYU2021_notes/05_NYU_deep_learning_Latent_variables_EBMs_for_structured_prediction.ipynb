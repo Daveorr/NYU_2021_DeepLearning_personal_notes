{
 "cells": [
  {
   "cell_type": "markdown",
   "id": "75c3c914-54f7-45e9-b3e2-5be34ce88f32",
   "metadata": {},
   "source": [
    "# NYU Deep Learning Spring 2021 - 05: Latent Variable Energy Based Models for structured prediction"
   ]
  },
  {
   "cell_type": "markdown",
   "id": "49839d03-3596-4538-8f36-bff79c1a533c",
   "metadata": {},
   "source": [
    "### Recap from previous lesson - Training concepts:\n",
    "#### Contrastive Method\n",
    "- Push down on the energy of training samples\n",
    "- Pull up on the energy of other \"well chosen\" points (e.g. to avoid creating canyons)\n",
    "\n",
    "**General Contrastive Loss formula**:\n",
    "\n",
    "$$\\mathcal{L}(x_1...x_{p^+}, y_1...y_{p^+},\\hat{y}_1...\\hat{y}_{p^-}, \\omega) = \n",
    "H(E(x_1,y_1),...E(x_{p^+}, y_{p^+}, E(x_1,\\hat{y}_1),...E(x_{p^+}, \\hat{y}_{p^+}), M(Y_{1...p^+}, \\hat{Y}_{1...p^{-}}))$$"
   ]
  },
  {
   "cell_type": "markdown",
   "id": "08ff7f62-a347-4a0a-845c-77e3e1a4b30f",
   "metadata": {},
   "source": [
    "### Margin Loss\n",
    "\n",
    "Push down on data points, push up of other points (well chosen contrastive points)\n",
    "\n",
    "PLEASE NOTICE: they take only one pair of \"good guy / bad guy\" per time\n",
    "\n",
    "**General Margin Loss**:\n",
    "$$\\mathcal{L}(x,y,\\hat{y},\\omega)=H(F_\\omega(x,y), F_\\omega(x,\\hat{y}), m(y,\\hat{y}))$$\n",
    "\n",
    "where: \n",
    "- $H(F^+,F^-,m)$ is a strictly increasing function of $F^+$\n",
    "- $H(F^+,F^-,m)$ is a strictly decreasing function of $F^-$ \n",
    "- True whenever $F^{-}-F^{+}<m$ (with $m$ positive definite)\n",
    "\n",
    "Main concept: when we minimize $\\mathcal{L}$ the energy of the \"bad guys\" $F_\\omega(x,\\hat{y})$ will be greater than the energy of the \"good guys\" $F_\\omega(x,y)$ by at least $m$. \n",
    "\n",
    "#### Examples:\n",
    "- **Simple** [Bromley 1993] \n",
    "$$\\mathcal{L}(x,y,\\hat{y},\\omega)=[F_\\omega(x,y)]^+ + [m(y,\\hat{y})-F_\\omega(x,\\hat{y})]^+$$\n",
    "Explicitely try to make energy of good guys 0 and energy of bad guys equal to $m$\n",
    "\n",
    "- **Hinge pair loss** (Triplet Loss) [Altun 2003], **Ranking loss** [Weston 2010]:\n",
    "$$\\mathcal{L}(x,y,\\hat{y},\\omega)=[F_\\omega(x,y) - F_\\omega(x,\\hat{y}) + m(y,\\hat{y})]^+$$\n",
    "Just tries to make the energy difference between good guys and bad guys greater than a certain margin $m$\n",
    "\n",
    "- **Square-Square** [Chopra CVPR 2005]\n",
    "$$\\mathcal{L}(x,y,\\hat{y},\\omega)=([F_\\omega(x,y)]^+)^2 + ([m(y,\\hat{y})-F_\\omega(x,\\hat{y})]^+)^2$$"
   ]
  },
  {
   "cell_type": "markdown",
   "id": "c843d778-ac24-4e22-8950-d33a4d3e413a",
   "metadata": {},
   "source": [
    "### Generalised Additive Margin Loss\n",
    "\n",
    "Instead of having a margin for a pair of samples you compute margin for a \"good guy\" against a set of \"bad guys\" by summing each contribution\n",
    "$$\\mathcal{L}(x,y,\\omega)=\\sum_{\\hat{y}\\in Y}H(F_\\omega(x,y), F_\\omega(x,\\hat{y}),m(y,\\hat{y}))$$"
   ]
  },
  {
   "cell_type": "markdown",
   "id": "5e1bb8ee-01ca-47c6-b374-bb4369888823",
   "metadata": {},
   "source": [
    "### InfoNCE, Contrastive Predictive Coding\n",
    "\n",
    "- Used a lot in Siamese net and joint Embedding\n",
    "- Margin is implicit and infinite\n",
    "- Contrastive samples compete for gradient\n",
    "\n",
    "$$\\mathcal{L}(x,y,\\hat{y_1},...,\\hat{y_{p^-}},\\omega)=-\\log\\frac{\\mathcal{e}^{-E_\\omega(x,y)}}{\\mathcal{e}^{-E_\\omega(x,y)}+\\sum_{i=1}^p\\mathcal{e}^{-E_\\omega(x,\\hat{y}_i,\\omega)}}$$\n",
    "\n",
    "- put the scores of all \"bad guys\" in a soft-max\n",
    "- if all \"bad guys\" have a very high energy $\\sum_{i=1}^p\\mathcal{e}^{-E_\\omega(x,\\hat{y}_i,\\omega)}=0$ and then also $\\mathcal{L}=0$\n",
    "- if a \"bad guy\" has low energy, because of the soft max, that guy's gonna get all the gradient and it's energy is going to be pushed up very hard, while the other high energy \"bad guy\" are not going to be affected too much"
   ]
  },
  {
   "cell_type": "code",
   "execution_count": null,
   "id": "e3dbfa73-a1aa-4c09-bcee-db4f0cdd2ed0",
   "metadata": {},
   "outputs": [],
   "source": []
  }
 ],
 "metadata": {
  "kernelspec": {
   "display_name": "Python 3 (ipykernel)",
   "language": "python",
   "name": "python3"
  },
  "language_info": {
   "codemirror_mode": {
    "name": "ipython",
    "version": 3
   },
   "file_extension": ".py",
   "mimetype": "text/x-python",
   "name": "python",
   "nbconvert_exporter": "python",
   "pygments_lexer": "ipython3",
   "version": "3.7.9"
  }
 },
 "nbformat": 4,
 "nbformat_minor": 5
}
