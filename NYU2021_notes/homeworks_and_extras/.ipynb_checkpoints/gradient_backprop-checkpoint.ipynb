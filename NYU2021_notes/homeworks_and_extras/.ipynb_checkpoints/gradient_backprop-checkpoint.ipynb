{
 "cells": [
  {
   "cell_type": "markdown",
   "id": "9d6620c9-f93d-412c-9437-7f8e0fa03bb2",
   "metadata": {},
   "source": [
    "# 01 - Autograd: automatic differentiation \n",
    " - Original notebook: https://github.com/Atcold/pytorch-Deep-Learning/blob/master/03-autograd_tutorial.ipynb\n",
    " - Pytorch resources: https://pytorch.org/tutorials/beginner/blitz/autograd_tutorial.html\n",
    " - Original lesson: https://www.youtube.com/watch?v=nTlCqaL7fCY\n",
    " \n",
    "`torch.autograd` is PyTorch’s automatic differentiation engine that powers neural network training. \n",
    "It is a define-by-run framework, which means that your backprop is defined by how your code is run, and that every iteration can be different.\n",
    "\n",
    "Neural networks (NNs) are a collection of nested functions that are executed on some input data. These functions are defined by parameters (consisting of weights and biases), which in PyTorch are stored in tensors.\n",
    "\n",
    "Training a NN happens in two steps:\n",
    "\n",
    "Forward Propagation: In forward prop, the NN makes its best guess about the correct output. It runs the input data through each of its functions to make this guess.\n",
    "\n",
    "Backward Propagation: In backprop, the NN adjusts its parameters proportionate to the error in its guess. It does this by traversing backwards from the output, collecting the derivatives of the error with respect to the parameters of the functions (gradients), and optimizing the parameters using gradient descent. For a more detailed walkthrough of backprop, check out this"
   ]
  },
  {
   "cell_type": "code",
   "execution_count": 1,
   "id": "304d1552-2352-406d-a4d5-db54a4c387d9",
   "metadata": {},
   "outputs": [],
   "source": [
    "import torch"
   ]
  },
  {
   "cell_type": "code",
   "execution_count": 2,
   "id": "fc7f6f99-dd4d-4a5f-8603-831871bed0fa",
   "metadata": {},
   "outputs": [
    {
     "name": "stdout",
     "output_type": "stream",
     "text": [
      "tensor([[1., 2.],\n",
      "        [3., 4.]], requires_grad=True)\n"
     ]
    }
   ],
   "source": [
    "# create a 2x2 tensor with gradient accumulation parameters\n",
    "x = torch.tensor([[1,2],[3,4]], requires_grad=True, dtype=torch.float32)\n",
    "print(x)"
   ]
  },
  {
   "cell_type": "code",
   "execution_count": 3,
   "id": "e5c6e277-9431-46ee-8e00-7730c92678e8",
   "metadata": {},
   "outputs": [
    {
     "name": "stdout",
     "output_type": "stream",
     "text": [
      "tensor([[-1.,  0.],\n",
      "        [ 1.,  2.]], grad_fn=<SubBackward0>)\n"
     ]
    }
   ],
   "source": [
    "# do a tensor operation, notice how y has a grad_fn\n",
    "y = x - 2\n",
    "print(y)"
   ]
  },
  {
   "cell_type": "code",
   "execution_count": 4,
   "id": "e6dc7554-eea0-4c21-8e19-4e12dda35c26",
   "metadata": {},
   "outputs": [
    {
     "name": "stdout",
     "output_type": "stream",
     "text": [
      "None\n",
      "<SubBackward0 object at 0x7fb5f0873990>\n"
     ]
    }
   ],
   "source": [
    "print(x.grad_fn)\n",
    "print(y.grad_fn)"
   ]
  },
  {
   "cell_type": "code",
   "execution_count": 5,
   "id": "3743c13d-ef5d-44e0-a4b7-eb39f3d6378e",
   "metadata": {},
   "outputs": [
    {
     "name": "stdout",
     "output_type": "stream",
     "text": [
      "<AccumulateGrad object at 0x7fb5f0879650>\n",
      "tensor([[1., 2.],\n",
      "        [3., 4.]], requires_grad=True)\n"
     ]
    }
   ],
   "source": [
    "print(y.grad_fn.next_functions[0][0])\n",
    "print(y.grad_fn.next_functions[0][0].variable)"
   ]
  },
  {
   "cell_type": "code",
   "execution_count": 6,
   "id": "df30c463-a56b-43d6-b110-c9c0b5bd4c75",
   "metadata": {},
   "outputs": [
    {
     "name": "stdout",
     "output_type": "stream",
     "text": [
      "tensor([[ 3.,  0.],\n",
      "        [ 3., 12.]], grad_fn=<MulBackward0>)\n",
      "tensor(4.5000, grad_fn=<MeanBackward0>)\n"
     ]
    }
   ],
   "source": [
    "# do more operations on y\n",
    "z = y * y * 3\n",
    "a = z.mean()\n",
    "\n",
    "print(z)\n",
    "print(a)"
   ]
  },
  {
   "cell_type": "code",
   "execution_count": 7,
   "id": "7ff1ba08-2217-431c-abea-1b64f2e073a1",
   "metadata": {},
   "outputs": [
    {
     "name": "stdout",
     "output_type": "stream",
     "text": [
      "<MulBackward0 object at 0x7fb5f0879110>\n",
      "<MeanBackward0 object at 0x7fb5f0879190>\n"
     ]
    }
   ],
   "source": [
    "print(z.grad_fn)\n",
    "print(a.grad_fn)"
   ]
  },
  {
   "cell_type": "markdown",
   "id": "26eb78d5-01af-4687-9a56-b4c0046ff20c",
   "metadata": {},
   "source": [
    "# Backpropagation concept\n",
    "\n",
    "<img src=\"material/gradient_backprop/bg.svg\">\n",
    "\n",
    "### Chain Rule\n",
    "\n",
    "$g(h(s))' =  g'(h(s))\\cdot h'(s)\\\\\n",
    "\\frac{\\partial(c)}{\\partial{s}}=\\frac{\\partial(c)}{\\partial{z}}\\cdot\\frac{\\partial(z)}{\\partial{s}}\\\\\n",
    "\\frac{\\partial(c)}{\\partial{s}}=\\frac{\\partial(c)}{\\partial{z}}\\cdot h'(s)$\n",
    "\n",
    "### Perturbations\n",
    "- Perturbing $s$ by $ds$ will perturb $z$ by: $\\\\ dz = ds\\cdot h'(s)$\n",
    "- This will perturb $c$ by: \n",
    "$\\\\ dc  =\\partial{z}\\cdot\\frac{\\partial{c}}{\\partial{z}}\n",
    "\\\\ dc  =ds\\cdot h'(s)\\cdot\\frac{\\partial{c}}{\\partial{z}}$\n",
    "- Hence the gradient of the cost function w.r.t. $s$ is: $\\\\ \\frac{\\partial(c)}{\\partial{s}}=\\frac{\\partial(c)}{\\partial{z}}\\cdot h'(s)$"
   ]
  },
  {
   "cell_type": "markdown",
   "id": "b480d201-44b5-461c-b93f-6ed7b1956161",
   "metadata": {},
   "source": [
    "# Backpropagation through a multistage graph\n",
    "\n",
    "#### Chain Rule for vector functions\n",
    "\n",
    "$\\frac{\\partial{c}}{\\partial{z_k}}=\\frac{\\partial{c}}{\\partial{z_{k+1}}} \\frac{\\partial{z_{k+1}}}{\\partial{z_k}} = \\frac{\\partial{c}}{\\partial{z_{k+1}}} \\frac{\\partial{f_k(z_k, \\omega_k)}}{\\partial{z_{k}}} \\quad\\text{State backpropagation}$\n",
    "\n",
    "$\\frac{\\partial{c}}{\\partial{\\omega_k}}=\\frac{\\partial{c}}{\\partial{z_{k+1}}} \\frac{\\partial{z_{k+1}}}{\\partial{\\omega_k}} = \\frac{\\partial{c}}{\\partial{z_{k+1}}} \\frac{\\partial{f_k(z_k, \\omega_k)}}{\\partial{\\omega_{k}}}\\quad\\text{Weights backpropagation}$\n",
    "\n",
    "Each module presents 2 Jacobian matrices\n",
    "- with respect of $z[k]: \\frac{\\partial{z_{k+1}}}{\\partial{z_k}} = \\frac{\\partial{f_k(z_k, \\omega_k)}}{\\partial{z_{k}}}$ \n",
    "- with respect of $\\omega[k]: \\frac{\\partial{z_{k+1}}}{\\partial{\\omega_k}} = \\frac{\\partial{f_k(z_k, \\omega_k)}}{\\partial{\\omega_{k}}}$ \n",
    "\n",
    "<img src=\"material/gradient_backprop/bp_multistage.svg\">"
   ]
  },
  {
   "cell_type": "markdown",
   "id": "f091add2-607a-45ef-a477-21a8fe210ead",
   "metadata": {},
   "source": [
    "# Backprop gradient with pytorch\n",
    "#### (propagation through a transformed graph)\n",
    "\n",
    "<img src=\"material/gradient_backprop/bp_transformed_graph.svg\">\n",
    "\n",
    "$C(G(\\omega))'=C'(G(\\omega))G'(\\omega)$\n",
    "\n",
    "$\\frac{\\partial{C(y, \\bar{y})}}{\\partial{\\omega}}=\\frac{\\partial{C(y, \\bar{y})}}{\\partial{\\bar{y}}}\\frac{\\partial{\\bar{y}}}{\\partial{\\omega}} = \\frac{\\partial{C(y, \\bar{y})}}{\\partial{\\bar{y}}}\\frac{\\partial{G(x, \\omega)}}{\\partial{\\omega}}$\n",
    "#### In practise:\n",
    "During training Backward propagation is kicked off when we call `.backward()` on the error tensor. Autograd then calculates and stores the gradients for each model parameter in the parameter’s `.grad` attribute."
   ]
  },
  {
   "cell_type": "code",
   "execution_count": 8,
   "id": "2f1ce364-eceb-42c5-9c75-ca34544c2df5",
   "metadata": {},
   "outputs": [
    {
     "data": {
      "image/svg+xml": [
       "<?xml version=\"1.0\" encoding=\"UTF-8\" standalone=\"no\"?>\n",
       "<!DOCTYPE svg PUBLIC \"-//W3C//DTD SVG 1.1//EN\"\n",
       " \"http://www.w3.org/Graphics/SVG/1.1/DTD/svg11.dtd\">\n",
       "<!-- Generated by graphviz version 2.49.2 (20211016.1639)\n",
       " -->\n",
       "<!-- Pages: 1 -->\n",
       "<svg width=\"109pt\" height=\"381pt\"\n",
       " viewBox=\"0.00 0.00 109.00 381.00\" xmlns=\"http://www.w3.org/2000/svg\" xmlns:xlink=\"http://www.w3.org/1999/xlink\">\n",
       "<g id=\"graph0\" class=\"graph\" transform=\"scale(1 1) rotate(0) translate(4 377)\">\n",
       "<polygon fill=\"white\" stroke=\"transparent\" points=\"-4,4 -4,-377 105,-377 105,4 -4,4\"/>\n",
       "<!-- 140419401170528 -->\n",
       "<g id=\"node1\" class=\"node\">\n",
       "<title>140419401170528</title>\n",
       "<polygon fill=\"#caff70\" stroke=\"black\" points=\"77.5,-31 23.5,-31 23.5,0 77.5,0 77.5,-31\"/>\n",
       "<text text-anchor=\"middle\" x=\"50.5\" y=\"-7\" font-family=\"monospace\" font-size=\"10.00\"> ()</text>\n",
       "</g>\n",
       "<!-- 140419353896720 -->\n",
       "<g id=\"node2\" class=\"node\">\n",
       "<title>140419353896720</title>\n",
       "<polygon fill=\"lightgrey\" stroke=\"black\" points=\"98,-86 3,-86 3,-67 98,-67 98,-86\"/>\n",
       "<text text-anchor=\"middle\" x=\"50.5\" y=\"-74\" font-family=\"monospace\" font-size=\"10.00\">MeanBackward0</text>\n",
       "</g>\n",
       "<!-- 140419353896720&#45;&gt;140419401170528 -->\n",
       "<g id=\"edge7\" class=\"edge\">\n",
       "<title>140419353896720&#45;&gt;140419401170528</title>\n",
       "<path fill=\"none\" stroke=\"black\" d=\"M50.5,-66.79C50.5,-60.07 50.5,-50.4 50.5,-41.34\"/>\n",
       "<polygon fill=\"black\" stroke=\"black\" points=\"54,-41.19 50.5,-31.19 47,-41.19 54,-41.19\"/>\n",
       "</g>\n",
       "<!-- 140419353897168 -->\n",
       "<g id=\"node3\" class=\"node\">\n",
       "<title>140419353897168</title>\n",
       "<polygon fill=\"lightgrey\" stroke=\"black\" points=\"95,-141 6,-141 6,-122 95,-122 95,-141\"/>\n",
       "<text text-anchor=\"middle\" x=\"50.5\" y=\"-129\" font-family=\"monospace\" font-size=\"10.00\">MulBackward0</text>\n",
       "</g>\n",
       "<!-- 140419353897168&#45;&gt;140419353896720 -->\n",
       "<g id=\"edge1\" class=\"edge\">\n",
       "<title>140419353897168&#45;&gt;140419353896720</title>\n",
       "<path fill=\"none\" stroke=\"black\" d=\"M50.5,-121.75C50.5,-114.8 50.5,-104.85 50.5,-96.13\"/>\n",
       "<polygon fill=\"black\" stroke=\"black\" points=\"54,-96.09 50.5,-86.09 47,-96.09 54,-96.09\"/>\n",
       "</g>\n",
       "<!-- 140419352948240 -->\n",
       "<g id=\"node4\" class=\"node\">\n",
       "<title>140419352948240</title>\n",
       "<polygon fill=\"lightgrey\" stroke=\"black\" points=\"95,-196 6,-196 6,-177 95,-177 95,-196\"/>\n",
       "<text text-anchor=\"middle\" x=\"50.5\" y=\"-184\" font-family=\"monospace\" font-size=\"10.00\">MulBackward0</text>\n",
       "</g>\n",
       "<!-- 140419352948240&#45;&gt;140419353897168 -->\n",
       "<g id=\"edge2\" class=\"edge\">\n",
       "<title>140419352948240&#45;&gt;140419353897168</title>\n",
       "<path fill=\"none\" stroke=\"black\" d=\"M50.5,-176.75C50.5,-169.8 50.5,-159.85 50.5,-151.13\"/>\n",
       "<polygon fill=\"black\" stroke=\"black\" points=\"54,-151.09 50.5,-141.09 47,-151.09 54,-151.09\"/>\n",
       "</g>\n",
       "<!-- 140419353896784 -->\n",
       "<g id=\"node5\" class=\"node\">\n",
       "<title>140419353896784</title>\n",
       "<polygon fill=\"lightgrey\" stroke=\"black\" points=\"95,-251 6,-251 6,-232 95,-232 95,-251\"/>\n",
       "<text text-anchor=\"middle\" x=\"50.5\" y=\"-239\" font-family=\"monospace\" font-size=\"10.00\">SubBackward0</text>\n",
       "</g>\n",
       "<!-- 140419353896784&#45;&gt;140419352948240 -->\n",
       "<g id=\"edge3\" class=\"edge\">\n",
       "<title>140419353896784&#45;&gt;140419352948240</title>\n",
       "<path fill=\"none\" stroke=\"black\" d=\"M45.33,-231.75C43.84,-224.8 43.4,-214.85 44.02,-206.13\"/>\n",
       "<polygon fill=\"black\" stroke=\"black\" points=\"47.51,-206.47 45.37,-196.09 40.57,-205.53 47.51,-206.47\"/>\n",
       "</g>\n",
       "<!-- 140419353896784&#45;&gt;140419352948240 -->\n",
       "<g id=\"edge6\" class=\"edge\">\n",
       "<title>140419353896784&#45;&gt;140419352948240</title>\n",
       "<path fill=\"none\" stroke=\"black\" d=\"M55.67,-231.75C57.16,-224.8 57.6,-214.85 56.98,-206.13\"/>\n",
       "<polygon fill=\"black\" stroke=\"black\" points=\"60.43,-205.53 55.63,-196.09 53.49,-206.47 60.43,-205.53\"/>\n",
       "</g>\n",
       "<!-- 140419401132560 -->\n",
       "<g id=\"node6\" class=\"node\">\n",
       "<title>140419401132560</title>\n",
       "<polygon fill=\"lightgrey\" stroke=\"black\" points=\"101,-306 0,-306 0,-287 101,-287 101,-306\"/>\n",
       "<text text-anchor=\"middle\" x=\"50.5\" y=\"-294\" font-family=\"monospace\" font-size=\"10.00\">AccumulateGrad</text>\n",
       "</g>\n",
       "<!-- 140419401132560&#45;&gt;140419353896784 -->\n",
       "<g id=\"edge4\" class=\"edge\">\n",
       "<title>140419401132560&#45;&gt;140419353896784</title>\n",
       "<path fill=\"none\" stroke=\"black\" d=\"M50.5,-286.75C50.5,-279.8 50.5,-269.85 50.5,-261.13\"/>\n",
       "<polygon fill=\"black\" stroke=\"black\" points=\"54,-261.09 50.5,-251.09 47,-261.09 54,-261.09\"/>\n",
       "</g>\n",
       "<!-- 140419401169248 -->\n",
       "<g id=\"node7\" class=\"node\">\n",
       "<title>140419401169248</title>\n",
       "<polygon fill=\"lightblue\" stroke=\"black\" points=\"80,-373 21,-373 21,-342 80,-342 80,-373\"/>\n",
       "<text text-anchor=\"middle\" x=\"50.5\" y=\"-349\" font-family=\"monospace\" font-size=\"10.00\"> (2, 2)</text>\n",
       "</g>\n",
       "<!-- 140419401169248&#45;&gt;140419401132560 -->\n",
       "<g id=\"edge5\" class=\"edge\">\n",
       "<title>140419401169248&#45;&gt;140419401132560</title>\n",
       "<path fill=\"none\" stroke=\"black\" d=\"M50.5,-341.92C50.5,-334.22 50.5,-324.69 50.5,-316.43\"/>\n",
       "<polygon fill=\"black\" stroke=\"black\" points=\"54,-316.25 50.5,-306.25 47,-316.25 54,-316.25\"/>\n",
       "</g>\n",
       "</g>\n",
       "</svg>\n"
      ],
      "text/plain": [
       "<graphviz.dot.Digraph at 0x7fb5edb567d0>"
      ]
     },
     "execution_count": 8,
     "metadata": {},
     "output_type": "execute_result"
    }
   ],
   "source": [
    "# visualize the computational graph with https://github.com/szagoruyko/pytorchviz\n",
    "from torchviz import make_dot\n",
    "make_dot(a)"
   ]
  },
  {
   "cell_type": "markdown",
   "id": "f0104fb1-ad4b-45fd-894f-71eea09894e8",
   "metadata": {},
   "source": [
    "In our case we had:\n",
    "\n",
    "$x = \\begin{bmatrix} 1 & 2 \\\\ 3 & 4  \\end{bmatrix}$\n",
    "\n",
    "$y = x - 2 = \\begin{bmatrix} -1 & 0 \\\\ 1 & 2  \\end{bmatrix}$\n",
    "\n",
    "$z = y^2 * 3 = \\begin{bmatrix} 1 & 0 \\\\ 1 & 4  \\end{bmatrix} * 3 = \\begin{bmatrix} 3 & 0 \\\\ 3 & 12  \\end{bmatrix}$\n",
    "\n",
    "$a = \\bar{z} = \\frac{3+0+3+12}{4} = 4.5$\n",
    "\n",
    "so backpropagating, Mathematically we have:\n",
    "\n",
    "$\\frac{\\partial{a}}{\\partial{x_i}} = \\frac{1}{4} \\sum_j \\frac{\\partial{z_j}}{\\partial{x_i}}$\n",
    "\n",
    "$\\frac{\\partial{a}}{\\partial{x_i}} = \\frac{1}{4} \\sum_j \\frac{\\partial{3y_j^2}}{\\partial{x_i}}$\n",
    "\n",
    "$\\frac{\\partial{a}}{\\partial{x_i}} = \\frac{1}{4} \\sum_j 6y\\frac{\\partial{y_j}}{\\partial{x_i}}$\n",
    "\n",
    "$\\frac{\\partial{a}}{\\partial{x_i}} = \\frac{1}{4} \\sum_j 6y\\frac{\\partial{(x_j-2)}}{\\partial{x_i}} =  \\frac{3}{2} \\sum_j y\\frac{\\partial{(x_j-2)}}{\\partial{x_i}} $\n",
    "\n",
    "$\\frac{\\partial{a}}{\\partial{x_i}} = \\frac{3}{2} \\sum_j (x_j-2)*1 = \\frac{3}{2} (x_j-2)$\n",
    "\n",
    "$\\frac{\\partial{a}}{\\partial{x_i}} = \\frac{3}{2} \\begin{bmatrix} -1 & 0 \\\\ 1 & 2  \\end{bmatrix} = \\begin{bmatrix} -1.5 & 0 \\\\ 1.5 & 3  \\end{bmatrix}$\n",
    "\n",
    "Let's print gradients $\\frac{\\partial{a}}{\\partial{x}}$\n",
    "\n",
    "PLEASE NOTICE: `a=z.mean()` in this example is a scalar and we do not need to specify any parameters for backward. By default, we backpropagate a gradient of 1.0 back."
   ]
  },
  {
   "cell_type": "code",
   "execution_count": 9,
   "id": "d61a82a8-11a1-4ec9-b7b9-e9fb32d22efb",
   "metadata": {},
   "outputs": [
    {
     "name": "stdout",
     "output_type": "stream",
     "text": [
      "tensor([[-1.5000,  0.0000],\n",
      "        [ 1.5000,  3.0000]])\n"
     ]
    }
   ],
   "source": [
    "# backprop\n",
    "a.backward()\n",
    "print(x.grad)"
   ]
  },
  {
   "cell_type": "markdown",
   "id": "0a5fe30f-c971-42c4-be49-2cd4385803c7",
   "metadata": {},
   "source": [
    "# Dynamic computational graph\n",
    "\n",
    "In PyTorch, the variables and functions build a dynamic graph of computation. For every variable operation, it creates at least a single Function node that connects to functions that created a Variable. The attribute grad_fn of a variable references the function that creates the variable. x has no function but any variable created by an operation will have a function. (source: https://jhui.github.io/2018/02/09/PyTorch-Variables-functionals-and-Autograd/)"
   ]
  },
  {
   "cell_type": "code",
   "execution_count": 10,
   "id": "0101a884-b8da-4e98-bf21-e017555691f0",
   "metadata": {},
   "outputs": [
    {
     "name": "stdout",
     "output_type": "stream",
     "text": [
      "None\n",
      "<MulBackward0 object at 0x7fb5f0879850>\n",
      "tensor([-1464.0775,   153.3061,   313.7990], grad_fn=<MulBackward0>)\n"
     ]
    }
   ],
   "source": [
    "x = torch.randn(3, requires_grad=True)\n",
    "\n",
    "y = x*2\n",
    "i = 0\n",
    "while y.data.norm() < 1000:\n",
    "    y = y*2\n",
    "    i += 1\n",
    "    \n",
    "print(x.grad_fn)     # None\n",
    "print(y.grad_fn)     # The Function that create the Variable y\n",
    "print(y)             # the variable"
   ]
  },
  {
   "cell_type": "markdown",
   "id": "a81a85b9-c88c-455b-b21d-96d5f63587df",
   "metadata": {},
   "source": [
    "### Backward (non-scalar output)"
   ]
  },
  {
   "cell_type": "markdown",
   "id": "caa32f60-8814-4645-8f19-132484a80f71",
   "metadata": {},
   "source": [
    "$y$ is a Tensor of size 3. backward requires a Tensor to specify each backpropagation gradient if the variable is not a scalar. To match each element of y, gradients needs to match the size of y. In some situtation, the gradient values are computed from the model predictions and the true labels."
   ]
  },
  {
   "cell_type": "code",
   "execution_count": 11,
   "id": "5e90e81f-31a1-472e-b198-b5acea227118",
   "metadata": {},
   "outputs": [
    {
     "name": "stdout",
     "output_type": "stream",
     "text": [
      "tensor([1.0240e+02, 1.0240e+03, 1.0240e-01])\n"
     ]
    }
   ],
   "source": [
    "# If we don't run backward on a scalar we need to specify the grad_output\n",
    "gradients = torch.FloatTensor([0.1, 1.0, 0.0001])\n",
    "y.backward(gradients)\n",
    "print(x.grad)"
   ]
  },
  {
   "cell_type": "markdown",
   "id": "d131d9de-0e8f-4d7e-b258-0e45975e4858",
   "metadata": {},
   "source": [
    "## Example: inference"
   ]
  },
  {
   "cell_type": "code",
   "execution_count": 13,
   "id": "2ea62291-5674-4e6f-b304-959f118148fd",
   "metadata": {},
   "outputs": [],
   "source": [
    "# this variable decide the tensor's range below\n",
    "n = 3"
   ]
  },
  {
   "cell_type": "code",
   "execution_count": 19,
   "id": "32be276f-50df-49be-9e02-105ac32c4772",
   "metadata": {},
   "outputs": [
    {
     "name": "stdout",
     "output_type": "stream",
     "text": [
      "tensor([1., 1., 1.])\n",
      "tensor([1., 2., 3.])\n"
     ]
    }
   ],
   "source": [
    "# both inputs and weight w will allow gradient accumulation\n",
    "x = torch.arange(1., n+1, requires_grad=True)\n",
    "w = torch.ones(n, requires_grad=True)\n",
    "z = w @ x # linear step\n",
    "z.backward()\n",
    "print(x.grad, w.grad, sep='\\n')"
   ]
  },
  {
   "cell_type": "code",
   "execution_count": 16,
   "id": "4c5091e4-a22b-4b5c-b1c1-6b9750cfa5bf",
   "metadata": {},
   "outputs": [
    {
     "name": "stdout",
     "output_type": "stream",
     "text": [
      "None\n",
      "tensor([1., 2., 3.])\n"
     ]
    }
   ],
   "source": [
    "# Only w that allows gradient accumulation\n",
    "x = torch.arange(1., n+1, requires_grad=False)\n",
    "w = torch.ones(n, requires_grad=True)\n",
    "z = w @ x # linear step\n",
    "z.backward()\n",
    "print(x.grad, w.grad, sep='\\n')"
   ]
  },
  {
   "cell_type": "code",
   "execution_count": 17,
   "id": "bf661737-279c-4cf0-9da7-992c81464982",
   "metadata": {},
   "outputs": [
    {
     "name": "stdout",
     "output_type": "stream",
     "text": [
      "RuntimeError!!! >:[\n",
      "element 0 of tensors does not require grad and does not have a grad_fn\n"
     ]
    }
   ],
   "source": [
    "x = torch.arange(1., n + 1)\n",
    "w = torch.ones(n, requires_grad=True)\n",
    "\n",
    "# Regardless of what you do in this context, all torch tensors will not have gradient accumulation\n",
    "with torch.no_grad():\n",
    "    z = w @ x\n",
    "\n",
    "try:\n",
    "    z.backward()  # PyTorch will throw an error here, since z has no grad accum.\n",
    "except RuntimeError as e:\n",
    "    print('RuntimeError!!! >:[')\n",
    "    print(e)"
   ]
  },
  {
   "cell_type": "markdown",
   "id": "dc9218d7-d66a-4c92-9b58-5a298066c529",
   "metadata": {},
   "source": [
    "## Example 2"
   ]
  },
  {
   "cell_type": "code",
   "execution_count": 45,
   "id": "62cbdee1-3cb7-4759-8b2f-137535569cc1",
   "metadata": {},
   "outputs": [
    {
     "name": "stdout",
     "output_type": "stream",
     "text": [
      "t:0 - loss value: 33153804.0\n",
      "t:100 - loss value: 927.98876953125\n",
      "t:200 - loss value: 10.574845314025879\n",
      "t:300 - loss value: 0.20356957614421844\n",
      "t:400 - loss value: 0.004852037876844406\n"
     ]
    }
   ],
   "source": [
    "dtype = torch.FloatTensor\n",
    "N, D_in, H, D_out = 64, 1000, 100, 10\n",
    "\n",
    "x = torch.randn((N, D_in), requires_grad=False) # torch.Size([64, 100])\n",
    "y = torch.randn((N, D_out), requires_grad=False) # torch.Size([64, 10])\n",
    "\n",
    "# accumulate gradient only for weights\n",
    "w1 = torch.randn((D_in, H), requires_grad=True) #torch.Size([1000, 100])\n",
    "w2 = torch.randn((H, D_out), requires_grad=True) #torch.Size([100, 10])\n",
    "\n",
    "learning_rate = 1e-6\n",
    "for t in range(500):\n",
    "    y_pred = x.mm(w1).clamp(min=0).mm(w2) #torch.Size([64, 10])\n",
    "\n",
    "    loss = (y_pred - y).pow(2).sum() # compute loss\n",
    "    \n",
    "    if (t % 100 == 0):\n",
    "        print('t:{} - loss value: {}'.format(t, loss.data))\n",
    "\n",
    "    loss.backward() # propagate loss backward\n",
    "\n",
    "    w1.data -= learning_rate * w1.grad.data # update weights w1\n",
    "    w2.data -= learning_rate * w2.grad.data # update weights w2\n",
    "\n",
    "    w1.grad.data.zero_() # empty the w1 grad\n",
    "    w2.grad.data.zero_() # empty the w2 grad"
   ]
  },
  {
   "cell_type": "code",
   "execution_count": 46,
   "id": "5eab7f65-d813-4e68-a6ad-3f5eef206810",
   "metadata": {},
   "outputs": [
    {
     "data": {
      "image/svg+xml": [
       "<?xml version=\"1.0\" encoding=\"UTF-8\" standalone=\"no\"?>\n",
       "<!DOCTYPE svg PUBLIC \"-//W3C//DTD SVG 1.1//EN\"\n",
       " \"http://www.w3.org/Graphics/SVG/1.1/DTD/svg11.dtd\">\n",
       "<!-- Generated by graphviz version 2.49.2 (20211016.1639)\n",
       " -->\n",
       "<!-- Pages: 1 -->\n",
       "<svg width=\"228pt\" height=\"503pt\"\n",
       " viewBox=\"0.00 0.00 228.00 503.00\" xmlns=\"http://www.w3.org/2000/svg\" xmlns:xlink=\"http://www.w3.org/1999/xlink\">\n",
       "<g id=\"graph0\" class=\"graph\" transform=\"scale(1 1) rotate(0) translate(4 499)\">\n",
       "<polygon fill=\"white\" stroke=\"transparent\" points=\"-4,4 -4,-499 224,-499 224,4 -4,4\"/>\n",
       "<!-- 140419399347488 -->\n",
       "<g id=\"node1\" class=\"node\">\n",
       "<title>140419399347488</title>\n",
       "<polygon fill=\"#caff70\" stroke=\"black\" points=\"136.5,-31 82.5,-31 82.5,0 136.5,0 136.5,-31\"/>\n",
       "<text text-anchor=\"middle\" x=\"109.5\" y=\"-7\" font-family=\"monospace\" font-size=\"10.00\"> ()</text>\n",
       "</g>\n",
       "<!-- 140419401133392 -->\n",
       "<g id=\"node2\" class=\"node\">\n",
       "<title>140419401133392</title>\n",
       "<polygon fill=\"lightgrey\" stroke=\"black\" points=\"154,-86 65,-86 65,-67 154,-67 154,-86\"/>\n",
       "<text text-anchor=\"middle\" x=\"109.5\" y=\"-74\" font-family=\"monospace\" font-size=\"10.00\">SumBackward0</text>\n",
       "</g>\n",
       "<!-- 140419401133392&#45;&gt;140419399347488 -->\n",
       "<g id=\"edge10\" class=\"edge\">\n",
       "<title>140419401133392&#45;&gt;140419399347488</title>\n",
       "<path fill=\"none\" stroke=\"black\" d=\"M109.5,-66.79C109.5,-60.07 109.5,-50.4 109.5,-41.34\"/>\n",
       "<polygon fill=\"black\" stroke=\"black\" points=\"113,-41.19 109.5,-31.19 106,-41.19 113,-41.19\"/>\n",
       "</g>\n",
       "<!-- 140419401718096 -->\n",
       "<g id=\"node3\" class=\"node\">\n",
       "<title>140419401718096</title>\n",
       "<polygon fill=\"lightgrey\" stroke=\"black\" points=\"154,-141 65,-141 65,-122 154,-122 154,-141\"/>\n",
       "<text text-anchor=\"middle\" x=\"109.5\" y=\"-129\" font-family=\"monospace\" font-size=\"10.00\">PowBackward0</text>\n",
       "</g>\n",
       "<!-- 140419401718096&#45;&gt;140419401133392 -->\n",
       "<g id=\"edge1\" class=\"edge\">\n",
       "<title>140419401718096&#45;&gt;140419401133392</title>\n",
       "<path fill=\"none\" stroke=\"black\" d=\"M109.5,-121.75C109.5,-114.8 109.5,-104.85 109.5,-96.13\"/>\n",
       "<polygon fill=\"black\" stroke=\"black\" points=\"113,-96.09 109.5,-86.09 106,-96.09 113,-96.09\"/>\n",
       "</g>\n",
       "<!-- 140419401717840 -->\n",
       "<g id=\"node4\" class=\"node\">\n",
       "<title>140419401717840</title>\n",
       "<polygon fill=\"lightgrey\" stroke=\"black\" points=\"154,-196 65,-196 65,-177 154,-177 154,-196\"/>\n",
       "<text text-anchor=\"middle\" x=\"109.5\" y=\"-184\" font-family=\"monospace\" font-size=\"10.00\">SubBackward0</text>\n",
       "</g>\n",
       "<!-- 140419401717840&#45;&gt;140419401718096 -->\n",
       "<g id=\"edge2\" class=\"edge\">\n",
       "<title>140419401717840&#45;&gt;140419401718096</title>\n",
       "<path fill=\"none\" stroke=\"black\" d=\"M109.5,-176.75C109.5,-169.8 109.5,-159.85 109.5,-151.13\"/>\n",
       "<polygon fill=\"black\" stroke=\"black\" points=\"113,-151.09 109.5,-141.09 106,-151.09 113,-151.09\"/>\n",
       "</g>\n",
       "<!-- 140419401717776 -->\n",
       "<g id=\"node5\" class=\"node\">\n",
       "<title>140419401717776</title>\n",
       "<polygon fill=\"lightgrey\" stroke=\"black\" points=\"148,-251 71,-251 71,-232 148,-232 148,-251\"/>\n",
       "<text text-anchor=\"middle\" x=\"109.5\" y=\"-239\" font-family=\"monospace\" font-size=\"10.00\">MmBackward</text>\n",
       "</g>\n",
       "<!-- 140419401717776&#45;&gt;140419401717840 -->\n",
       "<g id=\"edge3\" class=\"edge\">\n",
       "<title>140419401717776&#45;&gt;140419401717840</title>\n",
       "<path fill=\"none\" stroke=\"black\" d=\"M109.5,-231.75C109.5,-224.8 109.5,-214.85 109.5,-206.13\"/>\n",
       "<polygon fill=\"black\" stroke=\"black\" points=\"113,-206.09 109.5,-196.09 106,-206.09 113,-206.09\"/>\n",
       "</g>\n",
       "<!-- 140419401718416 -->\n",
       "<g id=\"node6\" class=\"node\">\n",
       "<title>140419401718416</title>\n",
       "<polygon fill=\"lightgrey\" stroke=\"black\" points=\"101,-306 0,-306 0,-287 101,-287 101,-306\"/>\n",
       "<text text-anchor=\"middle\" x=\"50.5\" y=\"-294\" font-family=\"monospace\" font-size=\"10.00\">ClampBackward1</text>\n",
       "</g>\n",
       "<!-- 140419401718416&#45;&gt;140419401717776 -->\n",
       "<g id=\"edge4\" class=\"edge\">\n",
       "<title>140419401718416&#45;&gt;140419401717776</title>\n",
       "<path fill=\"none\" stroke=\"black\" d=\"M59.98,-286.98C68.7,-279.15 81.84,-267.34 92.4,-257.86\"/>\n",
       "<polygon fill=\"black\" stroke=\"black\" points=\"94.75,-260.46 99.85,-251.17 90.07,-255.25 94.75,-260.46\"/>\n",
       "</g>\n",
       "<!-- 140419401717968 -->\n",
       "<g id=\"node7\" class=\"node\">\n",
       "<title>140419401717968</title>\n",
       "<polygon fill=\"lightgrey\" stroke=\"black\" points=\"89,-367 12,-367 12,-348 89,-348 89,-367\"/>\n",
       "<text text-anchor=\"middle\" x=\"50.5\" y=\"-355\" font-family=\"monospace\" font-size=\"10.00\">MmBackward</text>\n",
       "</g>\n",
       "<!-- 140419401717968&#45;&gt;140419401718416 -->\n",
       "<g id=\"edge5\" class=\"edge\">\n",
       "<title>140419401717968&#45;&gt;140419401718416</title>\n",
       "<path fill=\"none\" stroke=\"black\" d=\"M50.5,-347.79C50.5,-339.6 50.5,-327.06 50.5,-316.55\"/>\n",
       "<polygon fill=\"black\" stroke=\"black\" points=\"54,-316.24 50.5,-306.24 47,-316.24 54,-316.24\"/>\n",
       "</g>\n",
       "<!-- 140419401715856 -->\n",
       "<g id=\"node8\" class=\"node\">\n",
       "<title>140419401715856</title>\n",
       "<polygon fill=\"lightgrey\" stroke=\"black\" points=\"101,-428 0,-428 0,-409 101,-409 101,-428\"/>\n",
       "<text text-anchor=\"middle\" x=\"50.5\" y=\"-416\" font-family=\"monospace\" font-size=\"10.00\">AccumulateGrad</text>\n",
       "</g>\n",
       "<!-- 140419401715856&#45;&gt;140419401717968 -->\n",
       "<g id=\"edge6\" class=\"edge\">\n",
       "<title>140419401715856&#45;&gt;140419401717968</title>\n",
       "<path fill=\"none\" stroke=\"black\" d=\"M50.5,-408.79C50.5,-400.6 50.5,-388.06 50.5,-377.55\"/>\n",
       "<polygon fill=\"black\" stroke=\"black\" points=\"54,-377.24 50.5,-367.24 47,-377.24 54,-377.24\"/>\n",
       "</g>\n",
       "<!-- 140419401504240 -->\n",
       "<g id=\"node9\" class=\"node\">\n",
       "<title>140419401504240</title>\n",
       "<polygon fill=\"lightblue\" stroke=\"black\" points=\"95,-495 6,-495 6,-464 95,-464 95,-495\"/>\n",
       "<text text-anchor=\"middle\" x=\"50.5\" y=\"-471\" font-family=\"monospace\" font-size=\"10.00\"> (1000, 100)</text>\n",
       "</g>\n",
       "<!-- 140419401504240&#45;&gt;140419401715856 -->\n",
       "<g id=\"edge7\" class=\"edge\">\n",
       "<title>140419401504240&#45;&gt;140419401715856</title>\n",
       "<path fill=\"none\" stroke=\"black\" d=\"M50.5,-463.92C50.5,-456.22 50.5,-446.69 50.5,-438.43\"/>\n",
       "<polygon fill=\"black\" stroke=\"black\" points=\"54,-438.25 50.5,-428.25 47,-438.25 54,-438.25\"/>\n",
       "</g>\n",
       "<!-- 140419401719504 -->\n",
       "<g id=\"node10\" class=\"node\">\n",
       "<title>140419401719504</title>\n",
       "<polygon fill=\"lightgrey\" stroke=\"black\" points=\"220,-306 119,-306 119,-287 220,-287 220,-306\"/>\n",
       "<text text-anchor=\"middle\" x=\"169.5\" y=\"-294\" font-family=\"monospace\" font-size=\"10.00\">AccumulateGrad</text>\n",
       "</g>\n",
       "<!-- 140419401719504&#45;&gt;140419401717776 -->\n",
       "<g id=\"edge8\" class=\"edge\">\n",
       "<title>140419401719504&#45;&gt;140419401717776</title>\n",
       "<path fill=\"none\" stroke=\"black\" d=\"M159.86,-286.98C150.99,-279.15 137.63,-267.34 126.89,-257.86\"/>\n",
       "<polygon fill=\"black\" stroke=\"black\" points=\"129.13,-255.17 119.32,-251.17 124.49,-260.41 129.13,-255.17\"/>\n",
       "</g>\n",
       "<!-- 140419401359264 -->\n",
       "<g id=\"node11\" class=\"node\">\n",
       "<title>140419401359264</title>\n",
       "<polygon fill=\"lightblue\" stroke=\"black\" points=\"208,-373 131,-373 131,-342 208,-342 208,-373\"/>\n",
       "<text text-anchor=\"middle\" x=\"169.5\" y=\"-349\" font-family=\"monospace\" font-size=\"10.00\"> (100, 10)</text>\n",
       "</g>\n",
       "<!-- 140419401359264&#45;&gt;140419401719504 -->\n",
       "<g id=\"edge9\" class=\"edge\">\n",
       "<title>140419401359264&#45;&gt;140419401719504</title>\n",
       "<path fill=\"none\" stroke=\"black\" d=\"M169.5,-341.92C169.5,-334.22 169.5,-324.69 169.5,-316.43\"/>\n",
       "<polygon fill=\"black\" stroke=\"black\" points=\"173,-316.25 169.5,-306.25 166,-316.25 173,-316.25\"/>\n",
       "</g>\n",
       "</g>\n",
       "</svg>\n"
      ],
      "text/plain": [
       "<graphviz.dot.Digraph at 0x7fb5f08f19d0>"
      ]
     },
     "execution_count": 46,
     "metadata": {},
     "output_type": "execute_result"
    }
   ],
   "source": [
    "make_dot(loss)"
   ]
  },
  {
   "cell_type": "code",
   "execution_count": null,
   "id": "bc9379cc-a38c-43b3-b11f-9c64cd83413a",
   "metadata": {},
   "outputs": [],
   "source": []
  }
 ],
 "metadata": {
  "kernelspec": {
   "display_name": "Python 3 (ipykernel)",
   "language": "python",
   "name": "python3"
  },
  "language_info": {
   "codemirror_mode": {
    "name": "ipython",
    "version": 3
   },
   "file_extension": ".py",
   "mimetype": "text/x-python",
   "name": "python",
   "nbconvert_exporter": "python",
   "pygments_lexer": "ipython3",
   "version": "3.7.9"
  }
 },
 "nbformat": 4,
 "nbformat_minor": 5
}
